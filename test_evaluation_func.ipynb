{
 "cells": [
  {
   "cell_type": "markdown",
   "metadata": {},
   "source": [
    "**Course**:    Social graphs and interactions\n",
    "\n",
    "**No.**:       02805\n",
    "\n",
    "**Students**:  s204255 & s204122\n",
    "\n",
    "**Date**:      11th December 2024\n",
    "\n"
   ]
  },
  {
   "cell_type": "markdown",
   "metadata": {},
   "source": [
    "# Imports"
   ]
  },
  {
   "cell_type": "code",
   "execution_count": 1,
   "metadata": {},
   "outputs": [],
   "source": [
    "import requests\n",
    "import json\n",
    "from bs4 import BeautifulSoup\n",
    "import networkx as nx\n",
    "import re\n",
    "from matplotlib import pyplot as plt\n",
    "import time\n",
    "import nltk\n",
    "from nltk.corpus import stopwords\n",
    "from sklearn.feature_extraction.text import TfidfVectorizer\n",
    "from wordcloud import WordCloud\n",
    "import matplotlib.pyplot as plt\n",
    "from collections import defaultdict\n",
    "import numpy as np"
   ]
  },
  {
   "cell_type": "markdown",
   "metadata": {},
   "source": [
    "# Load statics"
   ]
  },
  {
   "cell_type": "code",
   "execution_count": 2,
   "metadata": {},
   "outputs": [],
   "source": [
    "# Load stored course-site HTMLs\n",
    "with open('valid_courses.json') as f:\n",
    "    valid_courses = json.load(f)\n",
    "\n",
    "# Load department color mapping\n",
    "with open('department_colors.json') as f:\n",
    "    department_colors = json.load(f)\n",
    "\n",
    "# Load department names\n",
    "with open('department_names.json') as f:\n",
    "    department_names = json.load(f)"
   ]
  },
  {
   "cell_type": "markdown",
   "metadata": {},
   "source": [
    "# Create graph"
   ]
  },
  {
   "cell_type": "markdown",
   "metadata": {},
   "source": [
    "## Add nodes"
   ]
  },
  {
   "cell_type": "code",
   "execution_count": 3,
   "metadata": {},
   "outputs": [],
   "source": [
    "# Initialize directd graph\n",
    "G = nx.DiGraph()\n",
    "\n",
    "# Go through each course\n",
    "for course_num in valid_courses:\n",
    "    department = course_num[:2] \n",
    "    G.add_node(course_num,\n",
    "               course_num=course_num,\n",
    "               page=valid_courses[course_num],\n",
    "               department=department, \n",
    "               color=department_colors[department],\n",
    "               department_name=department_names[department])"
   ]
  },
  {
   "cell_type": "markdown",
   "metadata": {},
   "source": [
    "## Add edges"
   ]
  },
  {
   "cell_type": "code",
   "execution_count": 4,
   "metadata": {},
   "outputs": [],
   "source": [
    "for course_num in valid_courses:\n",
    "\n",
    "    # Initialize BeautifulSoup object\n",
    "    page = G.nodes[course_num]['page']\n",
    "    soup = BeautifulSoup(page, 'html.parser')\n",
    "\n",
    "    # Define the search pattern to match both \"Academic prerequisites\" and \"Mandatory prerequisites\"\n",
    "    search_pattern = r\"(Academic prerequisites|Mandatory Prerequisites)\"\n",
    "    \n",
    "    # Find the label element that matches the pattern\n",
    "    label = soup.find('label', string=re.compile(search_pattern))\n",
    "    if label is None:\n",
    "        continue  # Skip if no label is found\n",
    "    \n",
    "    # Get the parent element that contains the label and prerequisites\n",
    "    parent = label.find_parent().find_parent()\n",
    "    \n",
    "    # Get the second <td> (assuming it contains the prerequisites text)\n",
    "    prerequisite = parent.find_all('td')[1].text\n",
    "\n",
    "    # Remove whitespace and line breaks\n",
    "    prerequisite = prerequisite.replace('\\r', ' ').replace('\\n', ' ')\n",
    "\n",
    "    # Extract 5-digit course numbers\n",
    "    prerequisites = set(re.findall(r'\\d{5}', prerequisite))\n",
    "    \n",
    "    # Add edges to the graph for valid prerequisites\n",
    "    for prerequisite in prerequisites:\n",
    "        if prerequisite in G.nodes:\n",
    "            if prerequisite != course_num:  # Skip self-loops\n",
    "                G.add_edge(prerequisite, course_num)\n"
   ]
  },
  {
   "cell_type": "markdown",
   "metadata": {},
   "source": [
    "## Add text attributes"
   ]
  },
  {
   "cell_type": "code",
   "execution_count": null,
   "metadata": {},
   "outputs": [],
   "source": [
    "for node in G.nodes:\n",
    "    \n",
    "    ### Initialize BeuatifulSoup object\n",
    "    page = G.nodes[node]['page']\n",
    "    soup = BeautifulSoup(page, 'html.parser')\n",
    "    \n",
    "    ### Add title to node\n",
    "    title = soup.title.text\n",
    "    cleaned = ' '.join(title.strip().split())[6:]\n",
    "    G.nodes[node]['course_title'] = cleaned\n",
    "    \n",
    "    ### Add course text to node (General course objectives + Learning objectives + Content)\n",
    "    div = soup.find('div', string=re.compile(\"General course objectives\")).parent(string=True)\n",
    "    \n",
    "    remove_indeces = []\n",
    "    for d, text in enumerate(div):\n",
    "        if text in [\"General course objectives\", \"Learning objectives\", \"Content\", \"Last updated\", \"\\r\\nA student who has met the objectives of the course will be able to:\\r\\n\\r\\n\"]:\n",
    "            remove_indeces.append(d)\n",
    "    \n",
    "    new_div = [div[i] for i in range(len(div)) if i not in remove_indeces]\n",
    "    text = ' '.join(new_div[:-1]).replace('\\r', ' ').replace('\\n', '')\n",
    "    cleaned = ' '.join(text.strip().split())\n",
    "    G.nodes[node]['course_text'] = cleaned  \n",
    "    G.nodes[node]['text_size'] = len(cleaned) \n",
    "    G.nodes[node]['word_count'] = len(cleaned.split())"
   ]
  },
  {
   "cell_type": "code",
   "execution_count": null,
   "metadata": {},
   "outputs": [
    {
     "data": {
      "image/png": "[encoded data removed]",
      "text/plain": [
       "<Figure size 640x480 with 1 Axes>"
      ]
     },
     "metadata": {},
     "output_type": "display_data"
    }
   ],
   "source": [
    "# plot distribution of text sizes\n",
    "text_sizes = [G.nodes[node]['word_count'] for node in G.nodes]\n",
    "plt.hist(text_sizes, bins=50, color='C2', alpha=0.7, edgecolor='darkgreen')\n",
    "plt.title('Distribution of text sizes\\n(Number of words)')\n",
    "plt.xlabel('Word count')\n",
    "plt.ylabel('Frequency')\n",
    "plt.show()"
   ]
  },
  {
   "cell_type": "markdown",
   "metadata": {},
   "source": [
    "# Get evaluations and grades"
   ]
  },
  {
   "cell_type": "code",
   "execution_count": null,
   "metadata": {},
   "outputs": [],
   "source": [
    "# Evaluations\n",
    "with open('eval_scores.json') as f:\n",
    "    eval_scores = json.load(f)\n",
    "\n",
    "# Grades\n",
    "with open('grade_scores.json') as f:\n",
    "    grade_scores = json.load(f)"
   ]
  },
  {
   "cell_type": "code",
   "execution_count": null,
   "metadata": {},
   "outputs": [],
   "source": [
    "# Apply evaluation and grade attributes\n",
    "for course_num in grade_scores:\n",
    "    G.nodes[course_num]['eval_scores'] = eval_scores[course_num]\n",
    "    G.nodes[course_num]['grade_scores'] = grade_scores[course_num]\n",
    "    \n",
    "# Remove nodes from G that do not have evaluation scores\n",
    "G = G.subgraph([node for node in G.nodes if 'eval_scores' in G.nodes[node]])\n",
    "# Remove nodes from G with empty evaluation scores\n",
    "G = G.subgraph([node for node in G.nodes if G.nodes[node]['eval_scores']])"
   ]
  },
  {
   "cell_type": "markdown",
   "metadata": {},
   "source": [
    "# Degree distribution"
   ]
  },
  {
   "cell_type": "markdown",
   "metadata": {},
   "source": [
    "# Plotting"
   ]
  },
  {
   "cell_type": "markdown",
   "metadata": {},
   "source": [
    "## Test partitionings"
   ]
  },
  {
   "cell_type": "code",
   "execution_count": null,
   "metadata": {},
   "outputs": [],
   "source": [
    "import networkx as nx\n",
    "from collections import Counter, defaultdict\n",
    "import random\n",
    "\n",
    "def overlapping_label_propagation(graph, max_size, max_iterations=100):\n",
    "    \"\"\"\n",
    "    Overlapping Label Propagation Algorithm with size constraints.\n",
    "\n",
    "    Parameters:\n",
    "        graph (nx.Graph): The input graph.\n",
    "        max_size (int): The maximum allowable size for a community.\n",
    "        max_iterations (int): Maximum number of iterations to run the algorithm.\n",
    "\n",
    "    Returns:\n",
    "        dict: A dictionary where keys are community indices (starting from 0) and values are lists of nodes.\n",
    "    \"\"\"\n",
    "    # Initialize each node with its own unique label as a set\n",
    "    labels = {node: {node} for node in graph.nodes}\n",
    "    \n",
    "    for iteration in range(max_iterations):\n",
    "        changes = False\n",
    "        \n",
    "        # Randomize node order to reduce bias\n",
    "        nodes = list(graph.nodes)\n",
    "        random.shuffle(nodes)\n",
    "        \n",
    "        for node in nodes:\n",
    "            # Collect all labels from neighbors\n",
    "            neighbor_labels = []\n",
    "            for neighbor in graph.neighbors(node):\n",
    "                neighbor_labels.extend(labels[neighbor])  # Collect labels of neighbors\n",
    "            \n",
    "            # Count the frequency of each label in the neighborhood\n",
    "            label_counts = Counter(neighbor_labels)\n",
    "            \n",
    "            # Sort labels by frequency (descending) and resolve ties randomly\n",
    "            sorted_labels = sorted(label_counts.items(), key=lambda x: (-x[1], random.random()))\n",
    "            \n",
    "            # Add labels while respecting size constraints\n",
    "            current_labels = labels[node]\n",
    "            for label, _ in sorted_labels:\n",
    "                community_size = sum(1 for n in graph.nodes if label in labels[n])\n",
    "                if community_size < max_size and label not in current_labels:\n",
    "                    current_labels.add(label)\n",
    "                    changes = True\n",
    "            \n",
    "        # Stop if no labels were changed\n",
    "        if not changes:\n",
    "            break\n",
    "    \n",
    "    # Create a community dictionary with sequential indices\n",
    "    community_dict = defaultdict(list)\n",
    "    label_to_index = {}  # Map original labels to indices\n",
    "    current_index = 0\n",
    "    \n",
    "    for node, node_labels in labels.items():\n",
    "        for label in node_labels:\n",
    "            if label not in label_to_index:\n",
    "                label_to_index[label] = current_index\n",
    "                current_index += 1\n",
    "            community_dict[label_to_index[label]].append(node)\n",
    "    \n",
    "    return dict(community_dict)\n",
    "\n"
   ]
  },
  {
   "cell_type": "code",
   "execution_count": null,
   "metadata": {},
   "outputs": [],
   "source": [
    "def heuristic_pm_2(graph):\n",
    "    '''\n",
    "    For each node, add a community that consists of:\n",
    "    1. The node itself\n",
    "    2. Predecessors and the predecessors of predecessors\n",
    "    3. Successors and the successors of successors \n",
    "    '''\n",
    "    communities = defaultdict(list)  # Store communities indexed by node\n",
    "    \n",
    "    for node in graph.nodes:\n",
    "        # Initialize the community with the node itself\n",
    "        community = set([node])\n",
    "        \n",
    "        # Add predecessors and their predecessors\n",
    "        for pred in graph.predecessors(node):\n",
    "            community.add(pred)\n",
    "            community.update(graph.predecessors(pred))\n",
    "        \n",
    "        # Add successors and their successors\n",
    "        for succ in graph.successors(node):\n",
    "            community.add(succ)\n",
    "            community.update(graph.successors(succ))\n",
    "        \n",
    "        # Convert the community set to a list and assign it\n",
    "        communities[node] = list(community)\n",
    "    \n",
    "    # remove communities with more than 15 courses\n",
    "    communities = {k: v for k, v in communities.items() if len(v) <= 15}\n",
    "    unique_courses = set()\n",
    "    for community in communities.values():\n",
    "        unique_courses.update(community)\n",
    "    \n",
    "    # replace nodes with indeces\n",
    "    # replace nodes with indeces\n",
    "    _communities = {}\n",
    "    for i, key in enumerate(communities.keys()):\n",
    "        _communities[i] = communities[key].copy()\n",
    "\n",
    "    return dict(_communities)\n",
    "\n",
    "\n",
    "def heuristic_pm_1(graph):\n",
    "    '''\n",
    "    For each node, add a community that consists of:\n",
    "    1. The node itself\n",
    "    2. Immediate predecessors\n",
    "    3. Immediate successors\n",
    "    '''\n",
    "    communities = defaultdict(list)  # Store communities indexed by node\n",
    "    \n",
    "    for node in graph.nodes:\n",
    "        # Initialize the community with the node itself\n",
    "        community = set([node])\n",
    "        \n",
    "        # Add immediate predecessors\n",
    "        community.update(graph.predecessors(node))\n",
    "        \n",
    "        # Add immediate successors\n",
    "        community.update(graph.successors(node))\n",
    "        \n",
    "        # Convert the community set to a list and assign it\n",
    "        communities[node] = list(community)\n",
    "    \n",
    "    # remove communities with more than 9 courses\n",
    "    communities = {k: v for k, v in communities.items() if len(v) <= 9}\n",
    "    unique_courses = set()\n",
    "    for community in communities.values():\n",
    "        unique_courses.update(community)\n",
    "\n",
    "    # replace nodes with indeces\n",
    "    _communities = {}\n",
    "    for i, key in enumerate(communities.keys()):\n",
    "        _communities[i] = communities[key].copy()\n",
    "\n",
    "    return dict(_communities)\n"
   ]
  },
  {
   "cell_type": "code",
   "execution_count": null,
   "metadata": {},
   "outputs": [],
   "source": [
    "# Method 1 - Ordinary label propagation\n",
    "from networkx.algorithms.community import label_propagation_communities\n",
    "H = G.to_undirected()\n",
    "communities = label_propagation_communities(H)"
   ]
  },
  {
   "cell_type": "code",
   "execution_count": null,
   "metadata": {},
   "outputs": [],
   "source": [
    "# Method 2 - Overlapping label propagation with size constraints\n",
    "H = G.to_undirected()\n",
    "communities = overlapping_label_propagation(H, 6)"
   ]
  },
  {
   "cell_type": "code",
   "execution_count": null,
   "metadata": {},
   "outputs": [],
   "source": [
    "# Method 3 - Overlapping label propagation with size constraints and degree filtering\n",
    "H = G.to_undirected()\n",
    "for node in G.nodes:\n",
    "    if G.out_degree(node) > 10:\n",
    "        H.remove_node(node)  \n",
    "communities = overlapping_label_propagation(H, 6)"
   ]
  },
  {
   "cell_type": "code",
   "execution_count": null,
   "metadata": {},
   "outputs": [],
   "source": [
    "# Method 4 - Heuristic ± 1 (directed graph with constraints)\n",
    "H = G.copy()\n",
    "communities = heuristic_pm_1(H)"
   ]
  },
  {
   "cell_type": "code",
   "execution_count": null,
   "metadata": {},
   "outputs": [],
   "source": [
    "# Method 5 - Heuristic ± 2 (directed graph with constraints)\n",
    "H = G.copy()\n",
    "communities = heuristic_pm_2(H)"
   ]
  },
  {
   "cell_type": "markdown",
   "metadata": {},
   "source": [
    "# Analyse words in communities"
   ]
  },
  {
   "cell_type": "code",
   "execution_count": null,
   "metadata": {},
   "outputs": [
    {
     "name": "stderr",
     "output_type": "stream",
     "text": [
      "[nltk_data] Downloading package stopwords to\n",
      "[nltk_data]     C:\\Users\\stein\\AppData\\Roaming\\nltk_data...\n",
      "[nltk_data]   Package stopwords is already up-to-date!\n"
     ]
    }
   ],
   "source": [
    "from evaluation import generate_wordcloud\n",
    "\n",
    "# Download stopwords if you haven't already\n",
    "nltk.download('stopwords')\n",
    "\n",
    "# Get the list of English stopwords from nltk\n",
    "nltk_stopwords = set(stopwords.words(\"english\"))\n",
    "\n",
    "# Define your own custom stopwords\n",
    "with open(\"stopwords.txt\", \"r\") as file:\n",
    "    custom_stopwords = {line.strip() for line in file}\n",
    "\n",
    "# Combine nltk stopwords with your custom stopwords\n",
    "stop_words = nltk_stopwords.union(custom_stopwords)"
   ]
  },
  {
   "cell_type": "code",
   "execution_count": null,
   "metadata": {},
   "outputs": [
    {
     "name": "stderr",
     "output_type": "stream",
     "text": [
      "C:\\Users\\stein\\AppData\\Local\\Temp\\ipykernel_19332\\1226105246.py:8: DeprecationWarning: Sampling from a set deprecated\n",
      "since Python 3.9 and will be removed in a subsequent version.\n",
      "  random_items = random.sample(communities.items(), 10)\n"
     ]
    },
    {
     "data": {
      "text/plain": [
       "27"
      ]
     },
     "execution_count": 17,
     "metadata": {},
     "output_type": "execute_result"
    }
   ],
   "source": [
    "# Sort the communities by the number of values (courses) in descending order\n",
    "sorted_communities = sorted(communities.items(), key=lambda item: len(item[1]), reverse=True)\n",
    "\n",
    "# Take the top 10 items\n",
    "top_10_communities = dict(sorted_communities[:10])\n",
    "\n",
    "# Get 10 random items from communities\n",
    "random_items = random.sample(communities.items(), 10)\n",
    "\n",
    "# Get all items from communities where '02405' is one of the courses\n",
    "course_02405 = {k: v for k, v in communities.items() if '02405' in v}\n",
    "\n",
    "# How many communities contain '02405'?\n",
    "len(course_02405)\n"
   ]
  },
  {
   "cell_type": "code",
   "execution_count": null,
   "metadata": {},
   "outputs": [],
   "source": [
    "P = G.copy()\n",
    "#generate_wordcloud(P,dict(course_02405), stop_words, 20)"
   ]
  },
  {
   "cell_type": "markdown",
   "metadata": {},
   "source": [
    "# Test evaluation scores"
   ]
  },
  {
   "cell_type": "code",
   "execution_count": null,
   "metadata": {
    "vscode": {
     "languageId": "markdown"
    }
   },
   "outputs": [
    {
     "name": "stdout",
     "output_type": "stream",
     "text": [
      "{0: 4.478594773469184, 1: 4.296602935482191, 2: 4.283755385004534, 3: 4.219238882565132, 4: 4.110301438257785, 5: 4.421808727307717, 6: 4.005229591243757, 7: 4.272964623971892, 8: 4.422404548230797, 9: 4.095879161259706, 10: 4.296602935482191, 11: 4.274948511005321, 12: 4.0971549525059885, 13: 4.16804762308964, 14: 3.7142857142857144, 15: 4.329806989772535, 16: 4.47837486408915, 17: 3.909343434343434, 18: 3.887099921935988, 19: 3.94672131147541, 20: 4.073412698412699, 21: 3.7450294673145543, 22: 3.763149494371092, 23: 4.025134350502172, 24: 4.129772693412245, 25: 4.0474427746166874, 26: 3.6911324668817636, 27: 3.8420349811871737, 28: 3.9317107503706668, 29: 3.8637185177311495, 30: 3.6091519474012443, 31: 4.036942960236609, 32: 3.8232813809284396, 33: 3.5619480475951066, 34: 3.721526994963527, 35: 3.25, 36: 3.4545454545454546, 37: 3.832087812005845, 38: 3.818452380952381, 39: 3.732143391142903, 40: 3.7062320697313385, 41: 3.9870881531306375, 42: 3.747551390284623, 43: 3.810995022258709, 44: 3.8917986648777196, 45: 3.9662427033096983, 46: 3.8852069697230505, 47: 3.9210552480498797, 48: 4.037037037037037, 49: 3.8558220207319365, 50: 4.03094535793999, 51: 3.93515422280513, 52: 4.071015185752424, 53: 3.9436264220830766, 54: 3.889326922692722, 55: 3.9428259705586135, 56: 3.8222120761671703, 57: 3.7153493651571172, 58: 3.7800446362662337, 59: 3.9345929305592167, 60: 3.900373614096556, 61: 3.931368589320968, 62: 3.926639244591623, 63: 3.8738185901731104, 64: 3.8255241476563824, 65: 3.7877192982456136, 66: 3.7909379248775537, 67: 3.908403026682596, 68: 4.064513458329033, 69: 3.7676663969595654, 70: 3.916457640596555, 71: 3.764821010081043, 72: 3.6858445132438935, 73: 3.7909379248775537, 74: 3.664852037825275, 75: 3.8187110829995077, 76: 3.765992978430258, 77: 3.782023992768774, 78: 4.169220603601942, 79: 4.232276614711903, 80: 4.127862557433785, 81: 4.201872334572736, 82: 4.354422199814263, 83: 4.2420324078911325, 84: 4.144979689171449, 85: 4.158561647466018, 86: 4.016031330043807, 87: 4.191896794925721, 88: 4.119034433931599, 89: 4.245447840839904, 90: 4.218339854895248, 91: 4.192912923152623, 92: 4.279980933174131, 93: 3.913822089805341, 94: 3.894220951412452, 95: 3.982770803169424, 96: 4.145867042192875, 97: 3.8991300366300368, 98: 3.953450370767444, 99: 4.100190003260268, 100: 4.009560441932488, 101: 4.134754623439189, 102: 4.78125, 103: 4.144634447704712, 104: 4.027783998587336, 105: 4.167022149624562, 106: 4.078635177480549, 107: 4.120755019712432, 108: 4.14327702291891, 109: 4.073726449244871, 110: 4.153693689585576, 111: 4.084249245141131, 112: 4.1820967679886545, 113: 4.056947330090709, 114: 4.1914565798446635, 115: 4.136755725143808, 116: 4.040322704546135, 117: 4.06309149697024, 118: 4.064169578488944, 119: 3.980874014134322, 120: 4.2053588105985105, 121: 3.9887693804914903, 122: 3.8884870267000053, 123: 4.150875143466142, 124: 3.9563011046370136, 125: 4.202856156250156, 126: 3.761049305056315, 127: 4.123753296412075, 128: 4.1005774563853965, 129: 4.1779996558506065, 130: 4.125705261336102, 131: 3.9508463136033227, 132: 3.94672131147541, 133: 3.725988810824876, 134: 3.5147619047619045, 135: 3.5722961008192047, 136: 3.739031939880685, 137: 4.088933815657246, 138: 4.035518002294428, 139: 3.5, 140: 4.005746642084621, 141: 4.266740778234792, 142: 4.7175523349436395, 143: 4.682926829268292, 144: 4.041542071890285, 145: 3.588235294117647, 146: 4.619717756455156, 147: 4.3545454545454545, 148: 4.473167210706395, 149: 4.495689655172414, 150: 3.993891358321725, 151: 4.511544322535702, 152: 4.05545520199124, 153: 4.58395298427626, 154: 4.466302391733426, 155: 4.485960122253225, 156: 4.54553260095132, 157: 4.155745558815823, 158: 4.5211163357715085, 159: 4.386803253138191, 160: 4.361633665055682, 161: 4.666666666666667, 162: 4.076222943035792, 163: 3.905783076133131, 164: 4.294840520017701, 165: 3.804924242424242, 166: 4.172890724833004, 167: 4.341181107823866, 168: 4.498112035899392, 169: 4.542913116884683, 170: 4.383878730918204, 171: 4.520328166077629, 172: 4.355587516771727, 173: 4.287356321839081, 174: 4.29360632183908, 175: 4.660919540229885, 176: 4.484448951994591, 177: 4.518931615729644, 178: 4.4, 179: 4.6, 180: 5.0, 181: 4.563143752798925, 182: 5.0, 183: 5.0, 184: 3.7222222222222223, 185: 4.666666666666667, 186: 3.8333333333333335, 187: 4.029411764705882, 188: 4.727272727272727, 189: 4.602272727272727, 190: 4.565842245989304, 191: 4.75, 192: 4.2506411086654605, 193: 3.736842105263158, 194: 3.875, 195: 4.330245139150054, 196: 4.620689655172414, 197: 2.9722222222222223, 198: 3.9904474415403333, 199: 4.393191178794894, 200: 4.164835164835165, 201: 4.274693794624717, 202: 4.570781573498965, 203: 4.240372670807453, 204: 4.243322981366459, 205: 4.004273504273504, 206: 3.5384615384615383, 207: 4.509433962264151, 208: 4.15, 209: 4.246652864044168, 210: 5.0, 211: 3.7214285714285715, 212: 4.444444444444445, 213: 4.093571428571429, 214: 4.093571428571429, 215: 4.305483405483405, 216: 4.395338704119769, 217: 4.044215900712333, 218: 4.373981703676794, 219: 4.062630368504681, 220: 4.3627542756609134, 221: 4.231253045769829, 222: 4.508339466617601, 223: 4.019927243058085, 224: 4.191028536710473, 225: 4.013520048115477, 226: 4.0962499999999995, 227: 4.062552333278958, 228: 3.973797208538588, 229: 4.08465058750773, 230: 3.9375, 231: 3.7648937489818763, 232: 4.071884840305893, 233: 4.071884840305893, 234: 3.8260869565217392, 235: 3.090909090909091, 236: 3.9375, 237: 2.89766081871345, 238: 4.0321637426900585, 239: 3.999884840305893, 240: 3.4205858456164915, 241: 3.933333333333333, 242: 3.888362395373564, 243: 3.8082991497255723, 244: 3.9071044360595266, 245: 3.718824599129235, 246: 3.9651647286821703, 247: 4.162950312516269, 248: 4.52, 249: 4.184674203206668, 250: 4.1776826575903225, 251: 4.475, 252: 4.4375, 253: 3.8333333333333335, 254: 3.75, 255: 3.7666666666666666, 256: 4.75, 257: 3.576923076923077, 258: 4.142857142857143, 259: 2.6470588235294117, 260: 4.380449357490622, 261: 3.9977143236973167, 262: 4.764423076923077, 263: 4.731837606837607, 264: 4.660256410256411, 265: 4.052723806251236, 266: 3.6625905608376286, 267: 4.124977215676925, 268: 4.332353088033789, 269: 4.18205306842349, 270: 5.0, 271: 4.03655425275602, 272: 4.473673796791443, 273: 4.177916333722622, 274: 4.5, 275: 4.025756343147183, 276: 4.207862662208044, 277: 4.180891862818002, 278: 4.238500636918488, 279: 3.7289583972601945, 280: 4.019142905894267, 281: 4.090249485333021, 282: 4.327386363636363, 283: 4.273673796791444, 284: 4.5, 285: 4.0710955710955705, 286: 4.244759972954699, 287: 3.0416666666666665, 288: 4.428571428571429, 289: 4.0, 290: 5.0, 291: 5.0, 292: 4.105263157894737, 293: 4.1818929931319175, 294: 4.011529838795773, 295: 2.840909090909091, 296: 3.9761904761904763, 297: 4.1818929931319175, 298: 4.045454545454546, 299: 4.0, 300: 5.0, 301: 4.098471051311163, 302: 4.257930971744088, 303: 3.9453983516483517, 304: 3.857142857142857, 305: 2.4, 306: 4.146858498578339, 307: 3.546538687141814, 308: 3.8333333333333335, 309: 3.8333333333333335, 310: 4.062950526126754, 311: 4.307620320855615, 312: 4.180300141572999, 313: 4.2559823705898765, 314: 4.64349376114082, 315: 4.375, 316: 4.395333583208396, 317: 4.494252873563219, 318: 4.1260990941693585, 319: 4.342627960275019, 320: 4.563487245721129, 321: 3.8666666666666667, 322: 4.0, 323: 3.9760067912488055, 324: 4.354166666666666, 325: 4.1145333819681325, 326: 5.0, 327: 4.428571428571429, 328: 4.375, 329: 4.077937719611166, 330: 3.8516483516483517, 331: 4.156079926803359, 332: 4.133392857142857, 333: 4.571428571428571, 334: 4.101900505551595, 335: 4.333333333333333, 336: 4.329649142265602, 337: 4.285219332298136, 338: 4.306372549019608, 339: 3.95, 340: 4.354166666666666, 341: 4.104097289102573, 342: 4.191112495882149, 343: 4.0533877436297585, 344: 3.776610644257703, 345: 3.8484848484848486, 346: 4.5, 347: 4.208333333333334, 348: 4.5, 349: 3.829508868900906, 350: 3.9230769230769234, 351: 4.384615384615385, 352: 3.695717953420136, 353: 3.5038459993772975, 354: 4.625, 355: 4.204545454545455, 356: 4.875, 357: 3.754807692307692, 358: 3.5833333333333335, 359: 3.7889524827024825, 360: 3.7889524827024825, 361: 4.456140350877193, 362: 4.17273434182114, 363: 4.0, 364: 4.010258838383839, 365: 4.6875, 366: 4.285714285714286, 367: 4.001984126984127, 368: 3.8639926739926738, 369: 4.285714285714286, 370: 3.673732364087232, 371: 4.083333333333333, 372: 4.444444444444444, 373: 4.444444444444444, 374: 3.0, 375: 3.6666666666666665, 376: 4.25530303030303, 377: 4.265289449358937, 378: 4.472222222222222, 379: 4.378181818181818, 380: 4.375, 381: 4.294967532467532, 382: 3.966666666666667, 383: 3.8, 384: 4.272727272727273, 385: 4.333333333333333, 386: 3.7, 387: 4.5, 388: 3.526315789473684, 389: 4.666666666666667, 390: 4.636363636363637, 391: 4.357575757575758, 392: 4.45, 393: 4.8545454545454545, 394: 4.8545454545454545, 395: 4.1, 396: 4.3375, 397: 4.472222222222222, 398: 4.297727272727273, 399: 4.5, 400: 4.5, 401: 4.5, 402: 4.318181818181818, 403: 4.0, 404: 3.0, 405: 3.6799908424908425, 406: 4.409101357537722, 407: 4.340351357537721, 408: 4.337672786109151, 409: 4.23121467898325, 410: 3.7518367346938772, 411: 4.19501759111164, 412: 4.1827997352563, 413: 3.817564256574508, 414: 4.525390320062452, 415: 4.02113381496969, 416: 4.113820207570208, 417: 3.94375, 418: 4.418520578420467, 419: 4.153448275862069, 420: 4.227220674949017, 421: 4.38169639703891, 422: 3.771945376661169, 423: 4.25669639703891, 424: 4.007885550807137, 425: 4.125, 426: 4.214273185763334, 427: 3.857142857142857, 428: 3.932261317067351, 429: 4.2722985347985345, 430: 4.638646248365219, 431: 4.328125350492095, 432: 4.73935064935065, 433: 3.9251044962516994, 434: 4.471339880038037, 435: 4.519340061152219, 436: 3.8085106382978724, 437: 4.5002415458937195, 438: 3.9149381160681354, 439: 4.655797101449275, 440: 4.24181859311432, 441: 4.217656186406186, 442: 4.14091962935882, 443: 3.639795918367347, 444: 4.256916996047432, 445: 3.0, 446: 4.395781371043839, 447: 3.892845434426633, 448: 4.231359911514148, 449: 3.5661166349229814, 450: 3.9344915889177123, 451: 3.7179338875919297, 452: 4.212530420852011, 453: 3.7559426057282783, 454: 3.904384538150187, 455: 4.054034526914233, 456: 4.407660502301543, 457: 4.320273117485412, 458: 4.818181818181818, 459: 3.5600560288623755, 460: 3.6884336251758194, 461: 4.275114253274943, 462: 3.6464691741659867, 463: 3.9342663174043584, 464: 4.397196194408489, 465: 3.6623359711711885, 466: 3.7662632030053964, 467: 3.7357169132343007, 468: 4.212851735211057, 469: 3.575706501267037, 470: 4.714285714285714, 471: 3.7238095238095235, 472: 4.342585519056107, 473: 3.828259628328981, 474: 4.309523809523809, 475: 4.022057453416149, 476: 3.8230607315389924, 477: 4.353593689254357, 478: 4.220290499700438, 479: 3.551748336914577, 480: 4.528942652329749, 481: 4.303715894960134, 482: 4.361872759856631, 483: 3.984151117508676, 484: 4.177215189873418, 485: 4.4095460145138725, 486: 4.389857142857143, 487: 4.305850340136054, 488: 3.398635477582846, 489: 4.272222222222222, 490: 4.241666666666667, 491: 3.5959041810704213, 492: 3.6149374900461857, 493: 3.5485616787532073, 494: 3.812240776851422, 495: 4.317328857225397, 496: 3.720412280826025, 497: 4.332665980203498, 498: 3.398635477582846, 499: 4.018185454044728, 500: 4.412698412698413, 501: 4.357459984558476, 502: 4.578198757763976, 503: 4.300975980541198, 504: 3.8276088098229657, 505: 3.411111111111111, 506: 4.387881193354182, 507: 4.5, 508: 4.555555555555556, 509: 3.605179332710631, 510: 4.333333333333334, 511: 4.417498719918075, 512: 4.348083720824506, 513: 4.073172677185901, 514: 3.9836065573770494, 515: 4.162, 516: 3.5631421011033293, 517: 3.6023782122144405, 518: 3.659610551745383, 519: 4.131223868352978, 520: 4.21018981018981, 521: 4.5, 522: 4.0, 523: 4.458734655946951, 524: 3.6795997730508447, 525: 4.263747935842937, 526: 3.8737461915032014, 527: 4.360624359537403, 528: 4.405849567099567, 529: 4.310430194805195, 530: 3.353171919284192, 531: 3.353171919284192, 532: 4.833333333333333, 533: 3.9960648087321653, 534: 4.401450972044842, 535: 4.504068789100137, 536: 4.32893426922898, 537: 4.390032258860822, 538: 4.75, 539: 4.158364661654136, 540: 4.158364661654136, 541: 4.531061466225898, 542: 4.416666666666667, 543: 4.226719576719577, 544: 4.292069397344033, 545: 4.2597937729621895, 546: 4.846153846153846, 547: 4.75, 548: 4.338117799215514, 549: 4.2981675063100075, 550: 4.27677164536936, 551: 4.0550359921049575, 552: 4.378378378378378, 553: 3.909343434343434, 554: 4.151680945638358, 555: 4.158364661654135, 556: 4.159882893958444, 557: 3.941501821967725, 558: 4.1692812166643405, 559: 4.173665164428711, 560: 4.535832462556601, 561: 4.293600198617701, 562: 4.156630552738711, 563: 4.224873685541788, 564: 4.072276013812819, 565: 4.389114512705944, 566: 4.078790033187444, 567: 4.403030303030303, 568: 4.204545454545455, 569: 4.142857142857143, 570: 3.857142857142857, 571: 4.044683908045976, 572: 4.625, 573: 4.620599430369545, 574: 4.345340722495895, 575: 4.205310105363985, 576: 4.574033656545971, 577: 5.0, 578: 4.316810344827585, 579: 4.5242887585867875, 580: 4.710089399744572, 581: 4.236709770114943, 582: 4.52439535440613, 583: 4.0, 584: 4.0, 585: 4.375, 586: 4.0, 587: 4.345340722495895, 588: 4.487735029640655, 589: 4.441567071577847, 590: 4.499106926799757, 591: 4.6728171002218195, 592: 4.111111111111111, 593: 4.611796916533758, 594: 3.8118185358255454, 595: 4.210936142369721, 596: 5.0, 597: 4.5036945900103795, 598: 3.7142857142857144, 599: 4.365277777777778, 600: 4.363839285714286, 601: 4.496004612671279, 602: 4.565192743764173, 603: 4.335714285714286, 604: 3.9375, 605: 3.9375, 606: 4.032407407407407, 607: 4.225374573505414, 608: 4.429337946004613, 609: 4.363636363636363, 610: 4.054047619047619, 611: 4.3126712793379465, 612: 3.899499654934438, 613: 4.398809523809524, 614: 4.391836734693878, 615: 4.275205535205535, 616: 3.3404255319148937, 617: 3.3404255319148937, 618: 4.510206865125196, 619: 4.510206865125196, 620: 4.244030930129061, 621: 4.180489417989418, 622: 4.275205535205535, 623: 4.444444444444445, 624: 4.712643678160919, 625: 4.891443167305236, 626: 5.0, 627: 4.211254789272031, 628: 4.057986815415822, 629: 3.0, 630: 4.1425247433986625, 631: 3.972457627118644, 632: 3.972457627118644, 633: 4.107309976138868, 634: 3.971794871794872, 635: 4.20929860717007, 636: 3.977317701274058, 637: 3.8660681254229643, 638: 3.8660681254229643, 639: 3.08, 640: 3.977317701274058, 641: 3.977317701274058, 642: 3.977317701274058, 643: 4.8, 644: 4.358418804767446, 645: 4.229363002070339, 646: 4.133333333333334, 647: 4.4234934339101, 648: 4.571428571428571, 649: 3.5, 650: 4.154974915391582, 651: 3.8015873015873014, 652: 3.0833333333333335, 653: 2.789473684210526, 654: 4.421052631578948, 655: 3.8076923076923075, 656: 3.0285714285714285, 657: 3.6842105263157894, 658: 4.554883008008008, 659: 4.43338037235096, 660: 4.22283689609271, 661: 4.275705211024978, 662: 4.4771568627450975, 663: 4.153897502153317, 664: 4.208333333333333, 665: 4.697222222222223, 666: 4.187657879689344, 667: 4.0005430569800815, 668: 4.196446078431372, 669: 4.3791108762039, 670: 3.7045454545454546, 671: 3.390938984289368, 672: 3.677521008403361, 673: 3.724272317622701, 674: 3.1104294478527605, 675: 3.5256410256410255, 676: 4.28027950310559, 677: 3.465976791613758, 678: 4.5, 679: 3.5, 680: 3.4285714285714284, 681: 3.428571428571429, 682: 3.082815734989648, 683: 4.4231366459627335, 684: 4.438509316770187, 685: 4.489130434782609, 686: 4.012422360248448, 687: 4.5, 688: 3.9181837486185307, 689: 4.046947084718823, 690: 3.93668430335097, 691: 4.175925925925926, 692: 4.0173094785415895, 693: 3.5823529411764703, 694: 3.5823529411764703, 695: 3.93668430335097, 696: 4.190227937267411, 697: 3.9069704986371647, 698: 3.843920153920154, 699: 3.9360935441370226, 700: 4.2310606060606055, 701: 4.185445102533016, 702: 4.335402099006686, 703: 4.614285714285714, 704: 4.554027818023761, 705: 4.368853230947551, 706: 4.446751666183715, 707: 4.091677158374906, 708: 4.154939739160496, 709: 4.2951747508686235, 710: 4.164574432979916, 711: 4.217435014530758, 712: 4.215958767570308, 713: 3.995543670076478, 714: 3.3088991769547325, 715: 4.332544191919192, 716: 4.2443482454429535, 717: 4.173495105528885, 718: 4.162005736874188, 719: 4.148275394754628, 720: 4.116983968079235, 721: 4.105673359686553, 722: 4.416666666666667, 723: 4.024305555555555, 724: 4.26984126984127, 725: 4.875, 726: 5.0, 727: 4.001041926110419, 728: 3.977440281276888, 729: 4.035953284784873, 730: 3.9969763303667416, 731: 3.5, 732: 3.771505938978654, 733: 3.888050928060108, 734: 3.941989345858632, 735: 4.0, 736: 4.010872082720307, 737: 4.109686147186147, 738: 3.9971317829457362, 739: 3.533333333333333, 740: 3.944111595259086, 741: 3.9208333333333334, 742: 3.905976601371338, 743: 4.066857338626662, 744: 4.457380952380952, 745: 3.9527633671378712, 746: 4.192561398367587, 747: 4.155098471955701, 748: 3.993288757437924, 749: 4.28539940699507, 750: 4.157355442176871, 751: 4.139930555555555, 752: 3.889684668961095, 753: 4.03312087284114, 754: 3.948359278754081, 755: 4.045919537425451, 756: 4.264705882352941, 757: 4.194170771756979, 758: 3.9198866475852983, 759: 2.899065994511539, 760: 3.9713772983638043, 761: 4.083446263881046, 762: 4.032380952380953, 763: 4.473442566990954, 764: 4.1135520188443575, 765: 4.030943686561039, 766: 4.151674948408819, 767: 4.27829035713933, 768: 4.112972164898688, 769: 4.319299325392515, 770: 4.256119392853263, 771: 4.3705520288355135, 772: 4.208164789213177, 773: 4.359246136501127, 774: 4.373762587472265, 775: 4.221638815187203, 776: 4.666666666666667, 777: 4.0977814444384215, 778: 4.278030071780072, 779: 4.149346399764481, 780: 4.207575757575758, 781: 4.1426599326599325, 782: 4.095985069682375, 783: 4.108465608465608, 784: 4.096462207568796, 785: 4.277873607873607, 786: 4.422460443403377, 787: 4.373318546838248, 788: 4.397053872053872, 789: 4.614785020048179, 790: 4.207509237517398, 791: 4.087378596790189, 792: 4.4, 793: 4.093222662188184, 794: 4.0250888531338225, 795: 4.108194126634662, 796: 4.524584717607973, 797: 4.011967502800174, 798: 4.0, 799: 4.25, 800: 3.1, 801: 3.9235504954670044, 802: 4.416666666666667, 803: 3.483333333333333, 804: 3.5833333333333335, 805: 4.0, 806: 4.333333333333333, 807: 3.922968601717428, 808: 4.1, 809: 4.666666666666667, 810: 3.451098224840681, 811: 3.894790580053738, 812: 3.3972658047502744, 813: 3.257790876163205, 814: 3.66296892303433, 815: 4.0128366350328974, 816: 3.945945945945946, 817: 4.0, 818: 3.998383009041876, 819: 3.3824808581400876, 820: 4.014780434474606, 821: 4.202257799671592, 822: 2.3214285714285716, 823: 3.5205241898248127, 824: 3.74055242055242, 825: 3.7513204380851444, 826: 3.761124359653772, 827: 3.6429388262925904, 828: 3.6527427478612178, 829: 3.6745167161308667, 830: 3.6883486494012807, 831: 4.212735297600816, 832: 4.08274460972454, 833: 4.141688975668861, 834: 4.123111974178456, 835: 4.232966019326857, 836: 4.062971526198897, 837: 4.241987802112952, 838: 4.053953451544216, 839: 4.1847546009431245, 840: 4.142857142857143, 841: 4.039965100802707, 842: 4.0986638677477085, 843: 3.85876758293078, 844: 3.9283570669670613, 845: 4.189960581811072, 846: 4.019276400133161, 847: 4.277405732602353, 848: 4.406135394775995, 849: 4.364852889850622, 850: 4.40956442831216, 851: 4.394852889850622, 852: 4.320116047745358, 853: 4.35632183908046, 854: 4.122600423152623, 855: 3.9452888733820144, 856: 4.065600369365805, 857: 3.5853777300393843, 858: 3.9959412400778884, 859: 3.9, 860: 4.14563026026369, 861: 3.2125, 862: 3.4215202472628214, 863: 2.406735751295337, 864: 3.296077684691546, 865: 2.6666666666666665, 866: 3.1806930693069306, 867: 3.4306930693069306, 868: 2.9514563106796117, 869: 3.982157413891224, 870: 4.004422686739517, 871: 3.0555555555555554, 872: 5.0, 873: 4.165463569665377, 874: 3.960615825277479, 875: 3.909263639327516, 876: 2.6744186046511627, 877: 2.8484848484848486, 878: 4.2, 879: 3.9201713815335824, 880: 3.7560975609756095, 881: 4.124898073065616, 882: 4.141955886092042, 883: 3.969051251316697, 884: 4.0179125349605895, 885: 3.939159492935237, 886: 4.072674439722494, 887: 3.979394966700314, 888: 4.5, 889: 3.969699409554482, 890: 4.142857142857143, 891: 4.333333333333333, 892: 3.9655172413793105, 893: 4.091227097256051, 894: 4.138601615138059, 895: 3.722749160951408, 896: 4.23954556608597, 897: 4.2272727272727275, 898: 3.986443381180223, 899: 4.475326886729122, 900: 4.533766063467087, 901: 4.533766063467087, 902: 4.39516129032258, 903: 4.1003868303866575, 904: 4.333333333333333, 905: 4.1003868303866575, 906: 4.248366013071895, 907: 4.19141895751538, 908: 4.13924716270254, 909: 4.273087510866415, 910: 5.0, 911: 4.291202733944669, 912: 4.473482666527022, 913: 4.360981923481924, 914: 4.292424242424243, 915: 4.761904761904762, 916: 3.9116161616161618, 917: 4.144983671299461, 918: 4.352657004830918, 919: 4.037220026350461, 920: 4.25128694479165, 921: 4.185730962050829, 922: 3.7571094793057407, 923: 4.094073195333826, 924: 3.0, 925: 4.666666666666667, 926: 3.769230769230769, 927: 4.166520839305521, 928: 3.885043666379283, 929: 4.028630881180223, 930: 3.6785714285714284, 931: 3.41875, 932: 4.2727272727272725, 933: 3.7058823529411766, 934: 4.1187848466746315, 935: 4.3125, 936: 4.125, 937: 3.8827148878518742, 938: 4.261363636363637, 939: 4.191446208112875, 940: 3.928104575163399, 941: 4.303134944498548, 942: 3.886910692047678, 943: 4.206896551724138, 944: 3.8595292069124127, 945: 3.5, 946: 4.333333333333333, 947: 4.321238807776075, 948: 3.948524339737412, 949: 4.307034692779058, 950: 4.0, 951: 4.027798142717497, 952: 3.5714285714285716, 953: 3.5588235294117645, 954: 4.0, 955: 4.333333333333333, 956: 4.040298507462687, 957: 3.443627450980392, 958: 2.0, 959: 3.1486486486486487, 960: 3.443627450980392, 961: 4.083333333333333, 962: 2.9974137931034486, 963: 4.2105263157894735, 964: 2.9974137931034486, 965: 4.166666666666667, 966: 3.9615384615384617, 967: 3.1666666666666665, 968: 3.972644174050824, 969: 4.074693527296502, 970: 3.8529411764705883, 971: 4.3559322033898304, 972: 4.4, 973: 3.6756756756756754, 974: 4.137931034482759, 975: 4.166666666666667, 976: 3.6756756756756754, 977: 3.3513513513513513, 978: 3.6285714285714286, 979: 4.083333333333333, 980: 4.172055137844612, 981: 4.454545454545454, 982: 3.7329017789838685, 983: 3.619565217391304, 984: 3.8, 985: 3.7759104199893674, 986: 3.242424242424242, 987: 3.831932773109243, 988: 3.871794871794872, 989: 3.7355072463768115, 990: 4.133333333333334, 991: 3.6666666666666665, 992: 4.0, 993: 4.067661913250149, 994: 3.6896135265700485, 995: 3.8636363636363638, 996: 3.775910419989367, 997: 4.27, 998: 3.9866666666666664, 999: 3.6875, 1000: 4.157777777777778, 1001: 3.6345472266524896, 1002: 2.8421052631578947, 1003: 3.6666666666666665, 1004: 4.086956521739131, 1005: 3.3333333333333335, 1006: 3.7277450980392155, 1007: 3.5744868637110017, 1008: 4.006297677173636, 1009: 3.230769230769231, 1010: 4.021256038647342, 1011: 3.645913978494624, 1012: 3.8939548035657876, 1013: 3.6275020885547202, 1014: 4.006297677173636, 1015: 3.6964912280701756, 1016: 3.6249512670565305, 1017: 3.963310450038138, 1018: 3.640260594560405, 1019: 3.5673037766830875, 1020: 3.2222222222222223, 1021: 3.591992409867173, 1022: 3.6842105263157894, 1023: 4.021256038647342, 1024: 3.742424242424242, 1025: 3.8313710606702727, 1026: 3.515677339901478, 1027: 3.809523809523809, 1028: 3.4, 1029: 3.7156785243741766, 1030: 3.7447368421052634, 1031: 4.25, 1032: 4.0, 1033: 4.388888888888889, 1034: 2.828109145756205, 1035: 3.3093316532464603, 1036: 3.9375, 1037: 3.4166666666666665, 1038: 3.0, 1039: 2.9722222222222223, 1040: 3.2333333333333334, 1041: 2.6690399469811235, 1042: 3.1144676423919155, 1043: 3.1843291587399416, 1044: 2.626143790849673, 1045: 3.1568065570144683, 1046: 3.65, 1047: 3.7142857142857144, 1048: 3.1351132066807437, 1049: 3.497276688453159, 1050: 3.919580419580419, 1051: 3.6180081910152353, 1052: 3.2333333333333334, 1053: 3.9609519512745317, 1054: 3.0204575163398695, 1055: 3.628963581221646, 1056: 2.748482628482629, 1057: 4.056276253717855, 1058: 3.6896135265700485, 1059: 3.5060897435897433, 1060: 3.935930735930736, 1061: 3.8844444444444446, 1062: 3.7428711073872356, 1063: 4.434700854700854, 1064: 3.739313725490196, 1065: 4.172055137844612, 1066: 3.5, 1067: 3.909343434343434, 1068: 3.9254843304843305, 1069: 3.995198279980888, 1070: 3.844082559339525, 1071: 3.5, 1072: 3.601163151364764, 1073: 4.12599846390169, 1074: 4.056362313297298, 1075: 3.25, 1076: 4.402777777777778, 1077: 3.5, 1078: 3.5, 1079: 2.35, 1080: 4.310430194805195, 1081: 3.919580419580419, 1082: 4.405849567099567, 1083: 3.93499649859944, 1084: 4.122808872712964, 1085: 3.983491461100569, 1086: 4.695852534562212, 1087: 3.5960236268420407, 1088: 3.7058230608746534, 1089: 3.6389364281632868, 1090: 3.95614099065186, 1091: 4.012457912457912, 1092: 4.727777777777778, 1093: 4.71518817204301, 1094: 4.7460635811126695, 1095: 4.012457912457912, 1096: 3.972537878787879, 1097: 4.715767269974844, 1098: 4.695079476390837, 1099: 3.3684210526315788, 1100: 4.375, 1101: 3.5596153846153844, 1102: 4.0079493087557605, 1103: 3.417948717948718, 1104: 4.25, 1105: 3.0, 1106: 4.125, 1107: 4.125, 1108: 3.8333333333333335, 1109: 3.1944409656166193, 1110: 3.2, 1111: 3.0454545454545454}\n"
     ]
    }
   ],
   "source": [
    "# Create a new dictionary to store the average evaluation scores\n",
    "average_eval_scores = {}\n",
    "\n",
    "# Iterate through each community\n",
    "for community_id, courses in communities.items():\n",
    "    # Collect the first element of eval_scores for each course in the community\n",
    "    scores = [eval_scores[course][0] for course in courses if course in eval_scores and eval_scores[course]]\n",
    "    \n",
    "    # Calculate the average score if there are any scores\n",
    "    if scores:\n",
    "        average_eval_scores[community_id] = sum(scores) / len(scores)\n",
    "    else:\n",
    "        average_eval_scores[community_id] = None  # or 0 or any other placeholder for no scores\n",
    "\n",
    "print(average_eval_scores)"
   ]
  },
  {
   "cell_type": "code",
   "execution_count": null,
   "metadata": {
    "vscode": {
     "languageId": "markdown"
    }
   },
   "outputs": [],
   "source": []
  },
  {
   "cell_type": "code",
   "execution_count": null,
   "metadata": {
    "vscode": {
     "languageId": "markdown"
    }
   },
   "outputs": [],
   "source": []
  },
  {
   "cell_type": "code",
   "execution_count": null,
   "metadata": {},
   "outputs": [
    {
     "data": {
      "text/plain": [
       "['01019',\n",
       " '01405',\n",
       " '01415',\n",
       " '01001',\n",
       " '01715',\n",
       " '01017',\n",
       " '01125',\n",
       " '01003',\n",
       " '01238',\n",
       " '34251',\n",
       " '01018',\n",
       " '01621']"
      ]
     },
     "execution_count": 20,
     "metadata": {},
     "output_type": "execute_result"
    }
   ],
   "source": [
    "communities[0]"
   ]
  },
  {
   "cell_type": "code",
   "execution_count": null,
   "metadata": {},
   "outputs": [
    {
     "name": "stdout",
     "output_type": "stream",
     "text": [
      "01019 :  4.2\n",
      "01405 :  4.7\n",
      "01415 :  4.857142857142857\n",
      "01001 :  4.21875\n",
      "01715 :  5.0\n",
      "01017 :  3.823529411764706\n",
      "01125 :  4.2\n",
      "01003 :  4.450381679389313\n",
      "01238 :  4.4\n",
      "34251 :  5.0\n",
      "01018 :  4.56\n",
      "01621 :  4.333333333333333\n"
     ]
    }
   ],
   "source": [
    "for course in communities[0]:\n",
    "    print(course ,\": \",G.nodes[course]['eval_scores'][0])"
   ]
  },
  {
   "cell_type": "code",
   "execution_count": null,
   "metadata": {},
   "outputs": [
    {
     "name": "stdout",
     "output_type": "stream",
     "text": [
      "Calculated average:  4.478594773469184\n"
     ]
    }
   ],
   "source": [
    "print(\"Calculated average: \", (4.2+4.4+4.857142857142857+10+4.333333333333333+4.21875+8.9+3.823529411764706+4.450381679389313+ 4.56)/12)"
   ]
  }
 ],
 "metadata": {
  "kernelspec": {
   "display_name": "Python 3",
   "language": "python",
   "name": "python3"
  },
  "language_info": {
   "codemirror_mode": {
    "name": "ipython",
    "version": 3
   },
   "file_extension": ".py",
   "mimetype": "text/x-python",
   "name": "python",
   "nbconvert_exporter": "python",
   "pygments_lexer": "ipython3",
   "version": "3.10.11"
  }
 },
 "nbformat": 4,
 "nbformat_minor": 2
}
