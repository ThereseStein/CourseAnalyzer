{
 "cells": [
  {
   "cell_type": "markdown",
   "metadata": {},
   "source": [
    "**Course**:    Social graphs and interactions\n",
    "\n",
    "**No.**:       02805\n",
    "\n",
    "**Students**:  s204255 & s204122\n",
    "\n",
    "**Date**:      11th December 2024\n",
    "\n"
   ]
  },
  {
   "cell_type": "markdown",
   "metadata": {},
   "source": [
    "# Imports"
   ]
  },
  {
   "cell_type": "code",
   "execution_count": 1,
   "metadata": {},
   "outputs": [],
   "source": [
    "import requests\n",
    "import json\n",
    "from bs4 import BeautifulSoup\n",
    "import networkx as nx\n",
    "import re\n",
    "from matplotlib import pyplot as plt\n",
    "import time\n",
    "import nltk\n",
    "from nltk.corpus import stopwords\n",
    "from sklearn.feature_extraction.text import TfidfVectorizer\n",
    "from wordcloud import WordCloud\n",
    "import matplotlib.pyplot as plt\n",
    "from collections import defaultdict\n",
    "import numpy as np"
   ]
  },
  {
   "cell_type": "markdown",
   "metadata": {},
   "source": [
    "# Load statics"
   ]
  },
  {
   "cell_type": "code",
   "execution_count": 2,
   "metadata": {},
   "outputs": [],
   "source": [
    "# Load stored course-site HTMLs\n",
    "with open('valid_courses.json') as f:\n",
    "    valid_courses = json.load(f)\n",
    "\n",
    "# Load department color mapping\n",
    "with open('department_colors.json') as f:\n",
    "    department_colors = json.load(f)\n",
    "\n",
    "# Load department names\n",
    "with open('department_names.json') as f:\n",
    "    department_names = json.load(f)"
   ]
  },
  {
   "cell_type": "markdown",
   "metadata": {},
   "source": [
    "# Create graph"
   ]
  },
  {
   "cell_type": "markdown",
   "metadata": {},
   "source": [
    "## Add nodes"
   ]
  },
  {
   "cell_type": "code",
   "execution_count": 3,
   "metadata": {},
   "outputs": [],
   "source": [
    "# Initialize directd graph\n",
    "G = nx.DiGraph()\n",
    "\n",
    "# Go through each course\n",
    "for course_num in valid_courses:\n",
    "    department = course_num[:2] \n",
    "    G.add_node(course_num,\n",
    "               course_num=course_num,\n",
    "               page=valid_courses[course_num],\n",
    "               department=department, \n",
    "               color=department_colors[department],\n",
    "               department_name=department_names[department])"
   ]
  },
  {
   "cell_type": "markdown",
   "metadata": {},
   "source": [
    "## Add edges"
   ]
  },
  {
   "cell_type": "code",
   "execution_count": 4,
   "metadata": {},
   "outputs": [],
   "source": [
    "for course_num in valid_courses:\n",
    "\n",
    "    # Initialize BeautifulSoup object\n",
    "    page = G.nodes[course_num]['page']\n",
    "    soup = BeautifulSoup(page, 'html.parser')\n",
    "\n",
    "    # Define the search pattern to match both \"Academic prerequisites\" and \"Mandatory prerequisites\"\n",
    "    search_pattern = r\"(Academic prerequisites|Mandatory Prerequisites)\"\n",
    "    \n",
    "    # Find the label element that matches the pattern\n",
    "    label = soup.find('label', string=re.compile(search_pattern))\n",
    "    if label is None:\n",
    "        continue  # Skip if no label is found\n",
    "    \n",
    "    # Get the parent element that contains the label and prerequisites\n",
    "    parent = label.find_parent().find_parent()\n",
    "    \n",
    "    # Get the second <td> (assuming it contains the prerequisites text)\n",
    "    prerequisite = parent.find_all('td')[1].text\n",
    "\n",
    "    # Remove whitespace and line breaks\n",
    "    prerequisite = prerequisite.replace('\\r', ' ').replace('\\n', ' ')\n",
    "\n",
    "    # Extract 5-digit course numbers\n",
    "    prerequisites = set(re.findall(r'\\d{5}', prerequisite))\n",
    "    \n",
    "    # Add edges to the graph for valid prerequisites\n",
    "    for prerequisite in prerequisites:\n",
    "        if prerequisite in G.nodes:\n",
    "            if prerequisite != course_num:  # Skip self-loops\n",
    "                G.add_edge(prerequisite, course_num)\n"
   ]
  },
  {
   "cell_type": "markdown",
   "metadata": {},
   "source": [
    "## Add text attributes"
   ]
  },
  {
   "cell_type": "code",
   "execution_count": 5,
   "metadata": {},
   "outputs": [],
   "source": [
    "for node in G.nodes:\n",
    "    \n",
    "    ### Initialize BeuatifulSoup object\n",
    "    page = G.nodes[node]['page']\n",
    "    soup = BeautifulSoup(page, 'html.parser')\n",
    "    \n",
    "    ### Add title to node\n",
    "    title = soup.title.text\n",
    "    cleaned = ' '.join(title.strip().split())[6:]\n",
    "    G.nodes[node]['course_title'] = cleaned\n",
    "    \n",
    "    ### Add course text to node (General course objectives + Learning objectives + Content)\n",
    "    div = soup.find('div', string=re.compile(\"General course objectives\")).parent(string=True)\n",
    "    \n",
    "    remove_indeces = []\n",
    "    for d, text in enumerate(div):\n",
    "        if text in [\"General course objectives\", \"Learning objectives\", \"Content\", \"Last updated\", \"\\r\\nA student who has met the objectives of the course will be able to:\\r\\n\\r\\n\"]:\n",
    "            remove_indeces.append(d)\n",
    "    \n",
    "    new_div = [div[i] for i in range(len(div)) if i not in remove_indeces]\n",
    "    text = ' '.join(new_div[:-1]).replace('\\r', ' ').replace('\\n', '')\n",
    "    cleaned = ' '.join(text.strip().split())\n",
    "    G.nodes[node]['course_text'] = cleaned  \n",
    "    G.nodes[node]['text_size'] = len(cleaned) \n",
    "    G.nodes[node]['word_count'] = len(cleaned.split())"
   ]
  },
  {
   "cell_type": "code",
   "execution_count": 6,
   "metadata": {},
   "outputs": [
    {
     "data": {
      "image/png": "[encoded data removed]",
      "text/plain": [
       "<Figure size 640x480 with 1 Axes>"
      ]
     },
     "metadata": {},
     "output_type": "display_data"
    }
   ],
   "source": [
    "# plot distribution of text sizes\n",
    "text_sizes = [G.nodes[node]['word_count'] for node in G.nodes]\n",
    "plt.hist(text_sizes, bins=50, color='C2', alpha=0.7, edgecolor='darkgreen')\n",
    "plt.title('Distribution of text sizes\\n(Number of words)')\n",
    "plt.xlabel('Word count')\n",
    "plt.ylabel('Frequency')\n",
    "plt.show()"
   ]
  },
  {
   "cell_type": "markdown",
   "metadata": {},
   "source": [
    "# Get evaluations and grades"
   ]
  },
  {
   "cell_type": "code",
   "execution_count": 7,
   "metadata": {},
   "outputs": [],
   "source": [
    "# Evaluations\n",
    "with open('eval_scores.json') as f:\n",
    "    eval_scores = json.load(f)\n",
    "\n",
    "# Grades\n",
    "with open('grade_scores.json') as f:\n",
    "    grade_scores = json.load(f)"
   ]
  },
  {
   "cell_type": "code",
   "execution_count": 8,
   "metadata": {},
   "outputs": [],
   "source": [
    "# Apply evaluation and grade attributes\n",
    "for course_num in grade_scores:\n",
    "    G.nodes[course_num]['eval_scores'] = eval_scores[course_num]\n",
    "    G.nodes[course_num]['grade_scores'] = grade_scores[course_num]\n",
    "    \n",
    "# Remove nodes from G that do not have evaluation scores\n",
    "G = G.subgraph([node for node in G.nodes if 'eval_scores' in G.nodes[node]])\n",
    "# Remove nodes from G with empty evaluation scores\n",
    "G = G.subgraph([node for node in G.nodes if G.nodes[node]['eval_scores']])"
   ]
  },
  {
   "cell_type": "markdown",
   "metadata": {},
   "source": [
    "# Degree distribution"
   ]
  },
  {
   "cell_type": "markdown",
   "metadata": {},
   "source": [
    "# Plotting"
   ]
  },
  {
   "cell_type": "markdown",
   "metadata": {},
   "source": [
    "## Test partitionings"
   ]
  },
  {
   "cell_type": "code",
   "execution_count": 9,
   "metadata": {},
   "outputs": [],
   "source": [
    "import networkx as nx\n",
    "from collections import Counter, defaultdict\n",
    "import random\n",
    "\n",
    "def overlapping_label_propagation(graph, max_size, max_iterations=100):\n",
    "    \"\"\"\n",
    "    Overlapping Label Propagation Algorithm with size constraints.\n",
    "\n",
    "    Parameters:\n",
    "        graph (nx.Graph): The input graph.\n",
    "        max_size (int): The maximum allowable size for a community.\n",
    "        max_iterations (int): Maximum number of iterations to run the algorithm.\n",
    "\n",
    "    Returns:\n",
    "        dict: A dictionary where keys are community indices (starting from 0) and values are lists of nodes.\n",
    "    \"\"\"\n",
    "    # Initialize each node with its own unique label as a set\n",
    "    labels = {node: {node} for node in graph.nodes}\n",
    "    \n",
    "    for iteration in range(max_iterations):\n",
    "        changes = False\n",
    "        \n",
    "        # Randomize node order to reduce bias\n",
    "        nodes = list(graph.nodes)\n",
    "        random.shuffle(nodes)\n",
    "        \n",
    "        for node in nodes:\n",
    "            # Collect all labels from neighbors\n",
    "            neighbor_labels = []\n",
    "            for neighbor in graph.neighbors(node):\n",
    "                neighbor_labels.extend(labels[neighbor])  # Collect labels of neighbors\n",
    "            \n",
    "            # Count the frequency of each label in the neighborhood\n",
    "            label_counts = Counter(neighbor_labels)\n",
    "            \n",
    "            # Sort labels by frequency (descending) and resolve ties randomly\n",
    "            sorted_labels = sorted(label_counts.items(), key=lambda x: (-x[1], random.random()))\n",
    "            \n",
    "            # Add labels while respecting size constraints\n",
    "            current_labels = labels[node]\n",
    "            for label, _ in sorted_labels:\n",
    "                community_size = sum(1 for n in graph.nodes if label in labels[n])\n",
    "                if community_size < max_size and label not in current_labels:\n",
    "                    current_labels.add(label)\n",
    "                    changes = True\n",
    "            \n",
    "        # Stop if no labels were changed\n",
    "        if not changes:\n",
    "            break\n",
    "    \n",
    "    # Create a community dictionary with sequential indices\n",
    "    community_dict = defaultdict(list)\n",
    "    label_to_index = {}  # Map original labels to indices\n",
    "    current_index = 0\n",
    "    \n",
    "    for node, node_labels in labels.items():\n",
    "        for label in node_labels:\n",
    "            if label not in label_to_index:\n",
    "                label_to_index[label] = current_index\n",
    "                current_index += 1\n",
    "            community_dict[label_to_index[label]].append(node)\n",
    "    \n",
    "    return dict(community_dict)\n",
    "\n"
   ]
  },
  {
   "cell_type": "code",
   "execution_count": 10,
   "metadata": {},
   "outputs": [],
   "source": [
    "def heuristic_pm_2(graph):\n",
    "    '''\n",
    "    For each node, add a community that consists of:\n",
    "    1. The node itself\n",
    "    2. Predecessors and the predecessors of predecessors\n",
    "    3. Successors and the successors of successors \n",
    "    '''\n",
    "    communities = defaultdict(list)  # Store communities indexed by node\n",
    "    \n",
    "    for node in graph.nodes:\n",
    "        # Initialize the community with the node itself\n",
    "        community = set([node])\n",
    "        \n",
    "        # Add predecessors and their predecessors\n",
    "        for pred in graph.predecessors(node):\n",
    "            community.add(pred)\n",
    "            community.update(graph.predecessors(pred))\n",
    "        \n",
    "        # Add successors and their successors\n",
    "        for succ in graph.successors(node):\n",
    "            community.add(succ)\n",
    "            community.update(graph.successors(succ))\n",
    "        \n",
    "        # Convert the community set to a list and assign it\n",
    "        communities[node] = list(community)\n",
    "    \n",
    "    # remove communities with more than 15 courses\n",
    "    communities = {k: v for k, v in communities.items() if len(v) <= 15}\n",
    "    unique_courses = set()\n",
    "    for community in communities.values():\n",
    "        unique_courses.update(community)\n",
    "    \n",
    "    # replace nodes with indeces\n",
    "    # replace nodes with indeces\n",
    "    _communities = {}\n",
    "    for i, key in enumerate(communities.keys()):\n",
    "        _communities[i] = communities[key].copy()\n",
    "\n",
    "    return dict(_communities)\n",
    "\n",
    "\n",
    "def heuristic_pm_1(graph):\n",
    "    '''\n",
    "    For each node, add a community that consists of:\n",
    "    1. The node itself\n",
    "    2. Immediate predecessors\n",
    "    3. Immediate successors\n",
    "    '''\n",
    "    communities = defaultdict(list)  # Store communities indexed by node\n",
    "    \n",
    "    for node in graph.nodes:\n",
    "        # Initialize the community with the node itself\n",
    "        community = set([node])\n",
    "        \n",
    "        # Add immediate predecessors\n",
    "        community.update(graph.predecessors(node))\n",
    "        \n",
    "        # Add immediate successors\n",
    "        community.update(graph.successors(node))\n",
    "        \n",
    "        # Convert the community set to a list and assign it\n",
    "        communities[node] = list(community)\n",
    "    \n",
    "    # remove communities with more than 9 courses\n",
    "    communities = {k: v for k, v in communities.items() if len(v) <= 9}\n",
    "    unique_courses = set()\n",
    "    for community in communities.values():\n",
    "        unique_courses.update(community)\n",
    "\n",
    "    # replace nodes with indeces\n",
    "    _communities = {}\n",
    "    for i, key in enumerate(communities.keys()):\n",
    "        _communities[i] = communities[key].copy()\n",
    "\n",
    "    return dict(_communities)\n"
   ]
  },
  {
   "cell_type": "code",
   "execution_count": 11,
   "metadata": {},
   "outputs": [],
   "source": [
    "# Method 1 - Ordinary label propagation\n",
    "from networkx.algorithms.community import label_propagation_communities\n",
    "H = G.to_undirected()\n",
    "communities = label_propagation_communities(H)"
   ]
  },
  {
   "cell_type": "code",
   "execution_count": 12,
   "metadata": {},
   "outputs": [],
   "source": [
    "# Method 2 - Overlapping label propagation with size constraints\n",
    "H = G.to_undirected()\n",
    "communities = overlapping_label_propagation(H, 6)"
   ]
  },
  {
   "cell_type": "code",
   "execution_count": 13,
   "metadata": {},
   "outputs": [],
   "source": [
    "# Method 3 - Overlapping label propagation with size constraints and degree filtering\n",
    "H = G.to_undirected()\n",
    "for node in G.nodes:\n",
    "    if G.out_degree(node) > 10:\n",
    "        H.remove_node(node)  \n",
    "communities = overlapping_label_propagation(H, 6)"
   ]
  },
  {
   "cell_type": "code",
   "execution_count": 14,
   "metadata": {},
   "outputs": [],
   "source": [
    "# Method 4 - Heuristic ± 1 (directed graph with constraints)\n",
    "H = G.copy()\n",
    "communities = heuristic_pm_1(H)"
   ]
  },
  {
   "cell_type": "code",
   "execution_count": 15,
   "metadata": {},
   "outputs": [],
   "source": [
    "# Method 5 - Heuristic ± 2 (directed graph with constraints)\n",
    "H = G.copy()\n",
    "communities = heuristic_pm_2(H)"
   ]
  },
  {
   "cell_type": "markdown",
   "metadata": {},
   "source": [
    "# Analyse words in communities"
   ]
  },
  {
   "cell_type": "code",
   "execution_count": 16,
   "metadata": {},
   "outputs": [
    {
     "name": "stderr",
     "output_type": "stream",
     "text": [
      "[nltk_data] Downloading package stopwords to\n",
      "[nltk_data]     C:\\Users\\stein\\AppData\\Roaming\\nltk_data...\n",
      "[nltk_data]   Package stopwords is already up-to-date!\n"
     ]
    }
   ],
   "source": [
    "from evaluation import generate_wordcloud\n",
    "\n",
    "# Download stopwords if you haven't already\n",
    "nltk.download('stopwords')\n",
    "\n",
    "# Get the list of English stopwords from nltk\n",
    "nltk_stopwords = set(stopwords.words(\"english\"))\n",
    "\n",
    "# Define your own custom stopwords\n",
    "with open(\"stopwords.txt\", \"r\") as file:\n",
    "    custom_stopwords = {line.strip() for line in file}\n",
    "\n",
    "# Combine nltk stopwords with your custom stopwords\n",
    "stop_words = nltk_stopwords.union(custom_stopwords)"
   ]
  },
  {
   "cell_type": "code",
   "execution_count": 17,
   "metadata": {},
   "outputs": [
    {
     "name": "stderr",
     "output_type": "stream",
     "text": [
      "C:\\Users\\stein\\AppData\\Local\\Temp\\ipykernel_19068\\1226105246.py:8: DeprecationWarning: Sampling from a set deprecated\n",
      "since Python 3.9 and will be removed in a subsequent version.\n",
      "  random_items = random.sample(communities.items(), 10)\n"
     ]
    },
    {
     "data": {
      "text/plain": [
       "27"
      ]
     },
     "execution_count": 17,
     "metadata": {},
     "output_type": "execute_result"
    }
   ],
   "source": [
    "# Sort the communities by the number of values (courses) in descending order\n",
    "sorted_communities = sorted(communities.items(), key=lambda item: len(item[1]), reverse=True)\n",
    "\n",
    "# Take the top 10 items\n",
    "top_10_communities = dict(sorted_communities[:10])\n",
    "\n",
    "# Get 10 random items from communities\n",
    "random_items = random.sample(communities.items(), 10)\n",
    "\n",
    "# Get all items from communities where '02405' is one of the courses\n",
    "course_02405 = {k: v for k, v in communities.items() if '02405' in v}\n",
    "\n",
    "# How many communities contain '02405'?\n",
    "len(course_02405)\n"
   ]
  },
  {
   "cell_type": "code",
   "execution_count": 18,
   "metadata": {},
   "outputs": [],
   "source": [
    "P = G.copy()\n",
    "#generate_wordcloud(P,dict(course_02405), stop_words, 20)"
   ]
  },
  {
   "cell_type": "markdown",
   "metadata": {},
   "source": [
    "# Test evaluation scores"
   ]
  },
  {
   "cell_type": "code",
   "execution_count": 31,
   "metadata": {},
   "outputs": [
    {
     "name": "stderr",
     "output_type": "stream",
     "text": [
      "C:\\Users\\stein\\AppData\\Local\\Temp\\ipykernel_19068\\1486781214.py:2: DeprecationWarning: Sampling from a set deprecated\n",
      "since Python 3.9 and will be removed in a subsequent version.\n",
      "  random_items = random.sample(communities.items(), 1)\n"
     ]
    }
   ],
   "source": [
    "# Get 10 random items from communities\n",
    "random_items = random.sample(communities.items(), 1)\n",
    "random_items = dict(random_items)"
   ]
  },
  {
   "cell_type": "code",
   "execution_count": 55,
   "metadata": {},
   "outputs": [
    {
     "data": {
      "text/plain": [
       "['41392']"
      ]
     },
     "execution_count": 55,
     "metadata": {},
     "output_type": "execute_result"
    }
   ],
   "source": [
    "communities[726]"
   ]
  },
  {
   "cell_type": "code",
   "execution_count": 57,
   "metadata": {},
   "outputs": [
    {
     "data": {
      "text/plain": [
       "[5.0]"
      ]
     },
     "execution_count": 57,
     "metadata": {},
     "output_type": "execute_result"
    }
   ],
   "source": [
    "G.nodes['41392']['eval_scores']"
   ]
  },
  {
   "cell_type": "code",
   "execution_count": 51,
   "metadata": {},
   "outputs": [
    {
     "name": "stdout",
     "output_type": "stream",
     "text": [
      "01019: [60, 49, 5.3]\n",
      "01001: [977, 853, 8.2]\n",
      "01003: [187, 168, 8.7]\n",
      "01227: [18, 14, 6.1]\n",
      "01017: [212, 157, 4.6]\n",
      "01527: [8, 8, None]\n"
     ]
    }
   ],
   "source": [
    "for course in communities[1]:\n",
    "    print(f\"{course}: {G.nodes[course]['grade_scores']}\")"
   ]
  },
  {
   "cell_type": "code",
   "execution_count": null,
   "metadata": {},
   "outputs": [],
   "source": [
    "# Create a new dictionary to store the average evaluation scores\n",
    "average_eval_scores = {}\n",
    "\n",
    "# Iterate through each community\n",
    "for community_id, courses in communities.items():\n",
    "    if community_id == 726:\n",
    "        continue\n",
    "    average_learned_a_lot = 0\n",
    "    average_time_used = 0\n",
    "    count_number_of_grades = 0\n",
    "\n",
    "    for course in courses:\n",
    "        average_learned_a_lot += G.nodes[course]['eval_scores'][0]\n",
    "        average_time_used += G.nodes[course]['eval_scores'][5]\n",
    "\n",
    "    average_learned_a_lot /= len(courses)\n",
    "    average_time_used /= len(courses)\n",
    "    \n",
    "    # Worst\n",
    "    # learn little, study a lot, 1/5 = 0.2\n",
    "    # Best\n",
    "    # learn a lot, study little, 5/1 = 5\n",
    "\n",
    "    average_eval_scores[community_id] = ((average_learned_a_lot / average_time_used)-0.2)/4.8 # The number is between 0 and 4.8\n",
    "\n"
   ]
  },
  {
   "cell_type": "code",
   "execution_count": 70,
   "metadata": {},
   "outputs": [
    {
     "data": {
      "image/png": "[encoded data removed]",
      "text/plain": [
       "<Figure size 640x480 with 1 Axes>"
      ]
     },
     "metadata": {},
     "output_type": "display_data"
    }
   ],
   "source": [
    "# Filter out null values from average_eval_scores\n",
    "filtered_scores = [score-(0.8/4.8) for score in average_eval_scores.values() if score is not None]\n",
    "\n",
    "# Plot the histogram\n",
    "plt.hist(filtered_scores, bins=50, color='C0', alpha=0.7, edgecolor='black')\n",
    "plt.title('Histogram of Average Evaluation Scores')\n",
    "plt.xlabel('Average Evaluation Score')\n",
    "plt.ylabel('Frequency')\n",
    "plt.show()"
   ]
  },
  {
   "cell_type": "code",
   "execution_count": 46,
   "metadata": {},
   "outputs": [
    {
     "name": "stdout",
     "output_type": "stream",
     "text": [
      "41638 :  [4.75, 4.85, 4.6, 4.4, 4.3, 3.65]\n",
      "41637 :  [4.189655172413793, 4.258620689655173, 3.6206896551724137, 3.9827586206896552, 2.8421052631578947, 3.3275862068965516]\n",
      "41619 :  [3.642857142857143, 4.089285714285714, 3.357142857142857, 3.8214285714285716, 3.2857142857142856, 2.9464285714285716]\n"
     ]
    }
   ],
   "source": [
    "for course in communities[757]:\n",
    "    print(course ,\": \",G.nodes[course]['eval_scores'])"
   ]
  },
  {
   "cell_type": "code",
   "execution_count": 22,
   "metadata": {},
   "outputs": [
    {
     "name": "stdout",
     "output_type": "stream",
     "text": [
      "Calculated average:  4.478594773469184\n"
     ]
    }
   ],
   "source": [
    "print(\"Calculated average: \", (4.2+4.4+4.857142857142857+10+4.333333333333333+4.21875+8.9+3.823529411764706+4.450381679389313+ 4.56)/12)"
   ]
  }
 ],
 "metadata": {
  "kernelspec": {
   "display_name": "Python 3",
   "language": "python",
   "name": "python3"
  },
  "language_info": {
   "codemirror_mode": {
    "name": "ipython",
    "version": 3
   },
   "file_extension": ".py",
   "mimetype": "text/x-python",
   "name": "python",
   "nbconvert_exporter": "python",
   "pygments_lexer": "ipython3",
   "version": "3.10.11"
  }
 },
 "nbformat": 4,
 "nbformat_minor": 2
}
